{
 "cells": [
  {
   "cell_type": "code",
   "execution_count": 2,
   "metadata": {},
   "outputs": [
    {
     "name": "stdout",
     "output_type": "stream",
     "text": [
      "Alice\n",
      "输入数据有误！\n",
      "好好学习，天天向上！\n"
     ]
    }
   ],
   "source": [
    "try:\n",
    "    score = input('')\n",
    "    a = ord('0')\n",
    "    b = ord('9')\n",
    "    S = ''\n",
    "    for i in score:\n",
    "        if a<=ord(i)<=b:\n",
    "            S += i\n",
    "            continue\n",
    "        else:\n",
    "            break\n",
    "    s = int(S)\n",
    "    if 90<= s <=100:\n",
    "        print(\"输入成绩属于A级别。\\n祝贺你通过考试！\")\n",
    "    elif 80<= s <90:\n",
    "        print(\"输入成绩属于B级别。\\n祝贺你通过考试！\")\n",
    "    elif 70<= s <80:\n",
    "        print(\"输入成绩属于C级别。\\n祝贺你通过考试！\")\n",
    "    elif 60<= s <70:\n",
    "        print(\"输入成绩属于D级别。\\n祝贺你通过考试！\")\n",
    "    elif 0<=s < 60:\n",
    "        print(\"输入成绩属于E级别。\")\n",
    "    else:\n",
    "        print(\"输入数据有误！\")\n",
    "except ValueError as e:\n",
    "    print('输入数据有误！')\n",
    "finally:\n",
    "    print('好好学习，天天向上！')"
   ]
  },
  {
   "cell_type": "code",
   "execution_count": 35,
   "metadata": {},
   "outputs": [
    {
     "name": "stdout",
     "output_type": "stream",
     "text": [
      "19\n"
     ]
    },
    {
     "ename": "TypeError",
     "evalue": "'int' object is not iterable",
     "output_type": "error",
     "traceback": [
      "\u001b[1;31m---------------------------------------------------------------------------\u001b[0m",
      "\u001b[1;31mTypeError\u001b[0m                                 Traceback (most recent call last)",
      "\u001b[1;32m<ipython-input-35-f77138ee5651>\u001b[0m in \u001b[0;36m<module>\u001b[1;34m()\u001b[0m\n\u001b[0;32m      6\u001b[0m         \u001b[1;32mcontinue\u001b[0m\u001b[1;33m\u001b[0m\u001b[0m\n\u001b[0;32m      7\u001b[0m     \u001b[1;32mreturn\u001b[0m \u001b[0msquahe\u001b[0m\u001b[1;33m\u001b[0m\u001b[0m\n\u001b[1;32m----> 8\u001b[1;33m \u001b[0msquaHe\u001b[0m\u001b[1;33m(\u001b[0m\u001b[1;33m)\u001b[0m\u001b[1;33m\u001b[0m\u001b[0m\n\u001b[0m\u001b[0;32m      9\u001b[0m \u001b[1;32mwhile\u001b[0m \u001b[0msquahe\u001b[0m \u001b[1;33m!=\u001b[0m \u001b[1;36m1\u001b[0m\u001b[1;33m:\u001b[0m\u001b[1;33m\u001b[0m\u001b[0m\n\u001b[0;32m     10\u001b[0m     \u001b[0mn\u001b[0m \u001b[1;33m=\u001b[0m \u001b[0msquahe\u001b[0m\u001b[1;33m\u001b[0m\u001b[0m\n",
      "\u001b[1;32m<ipython-input-35-f77138ee5651>\u001b[0m in \u001b[0;36msquaHe\u001b[1;34m()\u001b[0m\n\u001b[0;32m      2\u001b[0m \u001b[1;32mdef\u001b[0m \u001b[0msquaHe\u001b[0m\u001b[1;33m(\u001b[0m\u001b[1;33m)\u001b[0m\u001b[1;33m:\u001b[0m\u001b[1;33m\u001b[0m\u001b[0m\n\u001b[0;32m      3\u001b[0m     \u001b[0msquahe\u001b[0m \u001b[1;33m=\u001b[0m \u001b[1;36m0\u001b[0m\u001b[1;33m\u001b[0m\u001b[0m\n\u001b[1;32m----> 4\u001b[1;33m     \u001b[1;32mfor\u001b[0m \u001b[0mi\u001b[0m \u001b[1;32min\u001b[0m \u001b[0mn\u001b[0m\u001b[1;33m:\u001b[0m\u001b[1;33m\u001b[0m\u001b[0m\n\u001b[0m\u001b[0;32m      5\u001b[0m         \u001b[0msquahe\u001b[0m \u001b[1;33m+=\u001b[0m \u001b[0mi\u001b[0m\u001b[1;33m**\u001b[0m\u001b[1;36m2\u001b[0m\u001b[1;33m\u001b[0m\u001b[0m\n\u001b[0;32m      6\u001b[0m         \u001b[1;32mcontinue\u001b[0m\u001b[1;33m\u001b[0m\u001b[0m\n",
      "\u001b[1;31mTypeError\u001b[0m: 'int' object is not iterable"
     ]
    }
   ],
   "source": [
    "n = int(input())\n",
    "def squaHe():\n",
    "    squahe = 0\n",
    "    for i in n:\n",
    "        squahe += i**2\n",
    "        continue\n",
    "    return squahe\n",
    "squaHe()\n",
    "while squahe != 1:\n",
    "    n = squahe\n",
    "    squaHe()\n",
    "else:\n",
    "    print('True')"
   ]
  },
  {
   "cell_type": "code",
   "execution_count": null,
   "metadata": {},
   "outputs": [],
   "source": [
    "def happy():\n",
    "    N = eval(input())\n",
    "    ifHappy(N)\n",
    "def ifHappy(n):\n",
    "    if n==1:\n",
    "        print(True)\n",
    "    else:\n",
    "        value = str(n)\n",
    "        x = 0\n",
    "        while x<990:\n",
    "            num = 0\n",
    "            for i in range(len(value)):\n",
    "                num += int(value[i])**2\n",
    "            ifHappy(num)\n",
    "            x += 1\n",
    "        break\n",
    "        print(False)\n",
    "if __name__ == '__main__':\n",
    "    happy()"
   ]
  }
 ],
 "metadata": {
  "kernelspec": {
   "display_name": "Python 3",
   "language": "python",
   "name": "python3"
  },
  "language_info": {
   "codemirror_mode": {
    "name": "ipython",
    "version": 3
   },
   "file_extension": ".py",
   "mimetype": "text/x-python",
   "name": "python",
   "nbconvert_exporter": "python",
   "pygments_lexer": "ipython3",
   "version": "3.6.5"
  }
 },
 "nbformat": 4,
 "nbformat_minor": 2
}
