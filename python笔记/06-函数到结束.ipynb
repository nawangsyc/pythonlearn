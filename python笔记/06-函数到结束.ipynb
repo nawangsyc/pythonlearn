{
 "cells": [
  {
   "cell_type": "markdown",
   "metadata": {},
   "source": [
    "### 收集参数混合调用的顺序问题\n",
    "- 收集参数，关键字参数，普通参数可以混合使用\n",
    "- 使用规则就是，普通参数和关键字参数优先\n",
    "- 定义的时候一般找普通参数，关键字参数，收集参数tuple，收集参数dict"
   ]
  },
  {
   "cell_type": "code",
   "execution_count": 13,
   "metadata": {},
   "outputs": [
    {
     "name": "stdout",
     "output_type": "stream",
     "text": [
      "hellow 大家好\n",
      "我叫wangna,我今年18了\n",
      "我没有爱好\n",
      "********************\n",
      "####################\n",
      "hellow 大家好\n",
      "我叫wangna,我今年18了\n",
      "我的爱好是youyong\n",
      "********************\n",
      "####################\n",
      "hellow 大家好\n",
      "我叫wangna,我今年18了\n",
      "我的爱好是youyong\n",
      "********************\n",
      "mvmnn\n",
      "frm\n",
      "####################\n",
      "hobby2 ... pengren\n",
      "hobby3 ... kandianshi\n"
     ]
    }
   ],
   "source": [
    "#收集参数混合调用案例\n",
    "#stu模拟一个学生的自我介绍\n",
    "\n",
    "def stu(name, age, *args, hobby=\"没有\", **kwargs):\n",
    "    print ('hellow 大家好')\n",
    "    print (\"我叫{0},我今年{1}了\".format(name,age))\n",
    "    if hobby==\"没有\":\n",
    "        print('我没有爱好')\n",
    "    else:\n",
    "        print('我的爱好是{0}'.format(hobby))\n",
    "    print('*' * 20)\n",
    "    \n",
    "    for i in args:\n",
    "        print(i)\n",
    "        \n",
    "    print('#' * 20)\n",
    "    \n",
    "    for k,v in kwargs.items():\n",
    "        print(k,'...',v)\n",
    "        \n",
    "        \n",
    "#开始调用\n",
    "name = \"wangna\"\n",
    "age = 18\n",
    "\n",
    "stu (name, age)\n",
    "\n",
    "stu (name, age, hobby='youyong')\n",
    "\n",
    "stu (name, age, 'mvmnn', 'frm', hobby='youyong', hobby2='pengren', hobby3=\"kandianshi\")"
   ]
  },
  {
   "cell_type": "markdown",
   "metadata": {},
   "source": [
    "### 收集参数的解包的问题\n",
    "- 把参数放入list或者字典中，直接把list/dict中的值放入收集参数中\n",
    "- 语法：看案例"
   ]
  },
  {
   "cell_type": "code",
   "execution_count": 1,
   "metadata": {},
   "outputs": [
    {
     "name": "stdout",
     "output_type": "stream",
     "text": [
      "hahaha\n",
      "<class 'list'>\n",
      "0\n",
      "['wangna', 19, 20, 'xingyu']\n",
      "********************\n",
      "hahaha\n",
      "<class 'str'>\n",
      "0\n",
      "wangna\n",
      "<class 'int'>\n",
      "1\n",
      "19\n",
      "<class 'int'>\n",
      "2\n",
      "20\n",
      "<class 'str'>\n",
      "3\n",
      "xingyu\n"
     ]
    }
   ],
   "source": [
    "#收集参数的解包问题\n",
    "\n",
    "def stu(*args):\n",
    "    print('hahaha')\n",
    "    # n用来表示循环次数\n",
    "    n = 0\n",
    "    for i in args:\n",
    "        print(type(i))\n",
    "        print(n)\n",
    "        n +=1\n",
    "        print(i)\n",
    "        \n",
    "#stu ('wangna','xingyu',19,200)\n",
    "\n",
    "l = [\"wangna\", 19, 20, \"xingyu\"]\n",
    "         \n",
    "stu(l)\n",
    "#此时，args的表示形式是字典内的一个list类型的元素，即arg=([\"wangna\", 19, 20, \"xingyu\"],)\n",
    "#不是想要的结果\n",
    "\n",
    "print('*' * 20)\n",
    "#此时的调用，需要有解包符合，即调用的时候前边加一个星号\n",
    "stu(*l)"
   ]
  },
  {
   "cell_type": "markdown",
   "metadata": {},
   "source": [
    "### 同理，dict类型收集参数一样可以解包，但是\n",
    "- 对dict类型进行解包，需要两个星号进行"
   ]
  },
  {
   "cell_type": "markdown",
   "metadata": {},
   "source": [
    "## 返回值\n",
    "- 函数和过程的区别\n",
    "    - 有无返回值\n",
    "- 需要用return显示返回内容，\n",
    "- 如果没有返回，则默认返回None\n",
    "- 推荐写法，无论有无返回值，最后都要以return结束"
   ]
  },
  {
   "cell_type": "code",
   "execution_count": 27,
   "metadata": {},
   "outputs": [
    {
     "name": "stdout",
     "output_type": "stream",
     "text": [
      "有返回值\n",
      "1\n",
      "没有返回值\n",
      "None\n"
     ]
    }
   ],
   "source": [
    "#返回值实例\n",
    "\n",
    "def func_1():\n",
    "    print('有返回值')\n",
    "    return 1\n",
    "\n",
    "def func_2():\n",
    "    print('没有返回值')\n",
    "    # return None\n",
    "\n",
    "f1 = func_1()\n",
    "print(f1)\n",
    "\n",
    "f2 = func_2()\n",
    "print(f2)"
   ]
  },
  {
   "cell_type": "markdown",
   "metadata": {},
   "source": [
    "# 函数文档\n",
    "- 函数文档的作用是对当前的函数提供使用相关的参考信息\n",
    "- 文档的写法：\n",
    "    - 在函数内部开始的第一行使用三字符串定义符\n",
    "    - 一般具有特定格式\n",
    "    - 参看案例\n",
    "- 文档查看\n",
    "    - 使用help函数，形如help（func）\n",
    "    - 使用__doc__,参看案例"
   ]
  },
  {
   "cell_type": "code",
   "execution_count": 37,
   "metadata": {},
   "outputs": [],
   "source": [
    "#文档案例\n",
    "#stu模拟一个学生的自我介绍\n",
    "def stu(name, age, *args):\n",
    "    '''\n",
    "    这是第一行\n",
    "    这是第二行\n",
    "    这是第三行\n",
    "    '''\n",
    "    print('This is hanshu stu')"
   ]
  },
  {
   "cell_type": "code",
   "execution_count": 38,
   "metadata": {},
   "outputs": [
    {
     "name": "stdout",
     "output_type": "stream",
     "text": [
      "Help on function stu in module __main__:\n",
      "\n",
      "stu(name, age, *args)\n",
      "    这是第一行\n",
      "    这是第二行\n",
      "    这是第三行\n",
      "\n"
     ]
    },
    {
     "data": {
      "text/plain": [
       "'\\n    这是第一行\\n    这是第二行\\n    这是第三行\\n    '"
      ]
     },
     "execution_count": 38,
     "metadata": {},
     "output_type": "execute_result"
    }
   ],
   "source": [
    "#查看函数文档\n",
    "help(stu)\n",
    "\n",
    "stu.__doc__"
   ]
  },
  {
   "cell_type": "code",
   "execution_count": 39,
   "metadata": {},
   "outputs": [
    {
     "name": "stdout",
     "output_type": "stream",
     "text": [
      "Help on function stu in module __main__:\n",
      "\n",
      "stu(name, age, *args)\n",
      "    这是文档的文字内容\n",
      "    ：param name：表示学生的姓名\n",
      "    ：param age：表示学生的年龄\n",
      "    ：return：此函数没有返回值\n",
      "\n",
      "None\n",
      "********************\n",
      "\n",
      "    这是文档的文字内容\n",
      "    ：param name：表示学生的姓名\n",
      "    ：param age：表示学生的年龄\n",
      "    ：return：此函数没有返回值\n",
      "    \n"
     ]
    }
   ],
   "source": [
    "def stu(name, age, *args):\n",
    "    '''\n",
    "    这是文档的文字内容\n",
    "    ：param name：表示学生的姓名\n",
    "    ：param age：表示学生的年龄\n",
    "    ：return：此函数没有返回值\n",
    "    '''\n",
    "    pass \n",
    "\n",
    "print(help(stu))\n",
    "print('*' * 20) \n",
    "print(stu.__doc__)"
   ]
  },
  {
   "cell_type": "code",
   "execution_count": null,
   "metadata": {},
   "outputs": [],
   "source": []
  },
  {
   "cell_type": "code",
   "execution_count": null,
   "metadata": {},
   "outputs": [],
   "source": []
  },
  {
   "cell_type": "code",
   "execution_count": null,
   "metadata": {},
   "outputs": [],
   "source": []
  }
 ],
 "metadata": {
  "kernelspec": {
   "display_name": "Python 3",
   "language": "python",
   "name": "python3"
  },
  "language_info": {
   "codemirror_mode": {
    "name": "ipython",
    "version": 3
   },
   "file_extension": ".py",
   "mimetype": "text/x-python",
   "name": "python",
   "nbconvert_exporter": "python",
   "pygments_lexer": "ipython3",
   "version": "3.6.5"
  }
 },
 "nbformat": 4,
 "nbformat_minor": 2
}
