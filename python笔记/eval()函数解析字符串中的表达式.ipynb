{
 "cells": [
  {
   "cell_type": "code",
   "execution_count": 85,
   "metadata": {},
   "outputs": [
    {
     "name": "stdout",
     "output_type": "stream",
     "text": [
      "please input your expression, your variable only can be x or X\n",
      "expression: x+45\n",
      "x = 12\n",
      "result is : 57.000000\n",
      "continue Y\\N? y\n",
      "please input your expression, your variable only can be x or X\n",
      "expression: x+12\n",
      "x = 12\n",
      "result is : 24.000000\n",
      "continue Y\\N? n\n"
     ]
    }
   ],
   "source": [
    "while True:\n",
    "    print(\"please input your expression, your variable only can be x or X\")\n",
    "    str = input(\"expression: \")\n",
    "    val = input(\"x = \")\n",
    "\n",
    "    preprocess = str.lower()\n",
    "    ready = preprocess.replace('x', val)\n",
    "    result = eval(ready)\n",
    "    print(\"result is : %f\" % result)\n",
    "\n",
    "    cmd = input(\"continue Y\\\\N? \")\n",
    "    cmd = cmd.lower()\n",
    "    if 'n' == cmd:\n",
    "        break"
   ]
  },
  {
   "cell_type": "code",
   "execution_count": 65,
   "metadata": {},
   "outputs": [
    {
     "name": "stdout",
     "output_type": "stream",
     "text": [
      "please input your expression, your variable only can be x or X\n",
      "expression: x+12\n",
      "x = 10\n",
      "result is : 22\n"
     ]
    }
   ],
   "source": [
    "print(\"please input your expression, your variable only can be x or X\")\n",
    "str = input(\"expression: \")\n",
    "val = input(\"x = \")\n",
    "\n",
    "preprocess = str.lower()\n",
    "ready = preprocess.replace('x', val)\n",
    "\n",
    "print(\"result is : %s\" % eval(ready))"
   ]
  },
  {
   "cell_type": "code",
   "execution_count": 2,
   "metadata": {},
   "outputs": [
    {
     "name": "stdout",
     "output_type": "stream",
     "text": [
      "请输入公式,公式的变量可以是x或者X：x+12\n",
      "你输入的数值是：12\n",
      "结果为: 24.0\n",
      "继续吗?是\\否 否\n"
     ]
    }
   ],
   "source": [
    "while True:\n",
    "    formula = input('请输入公式,公式的变量可以是x或者X：')\n",
    "    formula = formula.lower()\n",
    "    value = input('你输入的数值是：')\n",
    "    value = float(value)\n",
    "    x = value\n",
    "    print('结果为:',eval(formula))\n",
    "    cmd = input(\"继续吗?是\\\\否 \")\n",
    "    cmd = cmd.lower()\n",
    "    if '否' == cmd:\n",
    "        break"
   ]
  }
 ],
 "metadata": {
  "kernelspec": {
   "display_name": "Python 3",
   "language": "python",
   "name": "python3"
  },
  "language_info": {
   "codemirror_mode": {
    "name": "ipython",
    "version": 3
   },
   "file_extension": ".py",
   "mimetype": "text/x-python",
   "name": "python",
   "nbconvert_exporter": "python",
   "pygments_lexer": "ipython3",
   "version": "3.6.5"
  }
 },
 "nbformat": 4,
 "nbformat_minor": 2
}
