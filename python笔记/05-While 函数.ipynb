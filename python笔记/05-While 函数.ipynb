{
 "cells": [
  {
   "cell_type": "markdown",
   "metadata": {},
   "source": [
    "# while 循环\n",
    "- 一个循环语句\n",
    "- 表示当某条件成立的时候，就循环\n",
    "- 不知道具体循环次数，但能确定循环的条件时使用while循环\n",
    "- while语法：\n",
    "\n",
    "        while 条件表达式:\n",
    "            语句块\n",
    "       \n",
    "       #另外一种表达方法\n",
    "       while 条件表达式:\n",
    "            语句块1\n",
    "       else：\n",
    "           语句块2    "
   ]
  },
  {
   "cell_type": "code",
   "execution_count": 1,
   "metadata": {},
   "outputs": [
    {
     "name": "stdout",
     "output_type": "stream",
     "text": [
      "第1年拿了106700.0块钱\n",
      "第2年拿了113848.9块钱\n",
      "第3年拿了121476.77629999998块钱\n",
      "第4年拿了129615.72031209998块钱\n",
      "第5年拿了138299.97357301068块钱\n",
      "第6年拿了147566.07180240238块钱\n",
      "第7年拿了157452.99861316333块钱\n",
      "第8年拿了168002.34952024528块钱\n",
      "第9年拿了179258.5069381017块钱\n",
      "第10年拿了191268.8269029545块钱\n",
      "第11年拿了204083.83830545243块钱\n"
     ]
    }
   ],
   "source": [
    "#如果说年利率是6.7%，本利是每年翻滚，则多少年后本钱会翻倍\n",
    "\n",
    "benqian = 100000\n",
    "year = 0\n",
    "while benqian < 200000:\n",
    "    benqian =benqian * (1+0.067)\n",
    "    year += 1 #year=year+1\n",
    "    print('第{0}年拿了{1}块钱'.format(year,benqian))"
   ]
  },
  {
   "cell_type": "code",
   "execution_count": 6,
   "metadata": {
    "scrolled": false
   },
   "outputs": [
    {
     "name": "stdout",
     "output_type": "stream",
     "text": [
      "第1年拿了106700.0块钱\n",
      "第2年拿了113848.9块钱\n",
      "第3年拿了121476.77629999998块钱\n",
      "第4年拿了129615.72031209998块钱\n",
      "第5年拿了138299.97357301068块钱\n",
      "第6年拿了147566.07180240238块钱\n",
      "第7年拿了157452.99861316333块钱\n",
      "第8年拿了168002.34952024528块钱\n",
      "第9年拿了179258.5069381017块钱\n",
      "第10年拿了191268.8269029545块钱\n",
      "第11年拿了204083.83830545243块钱\n",
      "10多年了，终于翻倍了\n"
     ]
    }
   ],
   "source": [
    "#如果说年利率是6.7%，本利是每年翻滚，则多少年后本钱会翻倍\n",
    "#如果拿到的钱翻倍，则用print庆祝一下\n",
    "benqian = 100000\n",
    "year = 0\n",
    "while benqian < 200000:\n",
    "    benqian =benqian * (1+0.067)\n",
    "    year += 1 #year=year+1\n",
    "    print('第{0}年拿了{1}块钱'.format(year,benqian))\n",
    "else:\n",
    "    print('10多年了，终于翻倍了')"
   ]
  },
  {
   "cell_type": "markdown",
   "metadata": {},
   "source": [
    "# 函数\n",
    "- 代码的一种组织形式\n",
    "- 一个函数一般完成一项特定的功能\n",
    "- 函数使用\n",
    "    - 函数需要先定义\n",
    "    - 使用函数，俗称调用"
   ]
  },
  {
   "cell_type": "code",
   "execution_count": 17,
   "metadata": {},
   "outputs": [
    {
     "name": "stdout",
     "output_type": "stream",
     "text": [
      "我结束了\n"
     ]
    }
   ],
   "source": [
    "#定义一个函数\n",
    "#只定义的话不会执行\n",
    "#1.def关键字，后跟一个空格\n",
    "#2.函数名，自己定义，起名需要遵循命名规则，约定俗成，大驼峰只给类命名\n",
    "#3.后面括号和冒号不能省略，括号内可以有参数\n",
    "#4.函数内所有代码缩进\n",
    "def func():\n",
    "    print('我是一个函数')\n",
    "    print('我要完成一定功能')\n",
    "print('我结束了')"
   ]
  },
  {
   "cell_type": "code",
   "execution_count": 18,
   "metadata": {},
   "outputs": [
    {
     "name": "stdout",
     "output_type": "stream",
     "text": [
      "我是一个函数\n",
      "我要完成一定功能\n"
     ]
    }
   ],
   "source": [
    "#函数的调用\n",
    "#直接函数名后面跟括号\n",
    "func ()"
   ]
  },
  {
   "cell_type": "markdown",
   "metadata": {},
   "source": [
    "### 函数的参数和返回值\n",
    "- 参数：负责给函数传递一些必要的数据或者信息\n",
    "    - 形式参数：在函数定义的时候用到的参数没有具体值，只是一个占位符，称为形参\n",
    "    - 实际参数：在调用函数的时候输入的值\n",
    "- 返回值：函数的执行结果\n",
    "    - 使用return关键字\n",
    "    - 如果没有return，默认返回一个none\n",
    "    - 函数一旦执行return语句，则无条件返回，即结束函数的执行"
   ]
  },
  {
   "cell_type": "code",
   "execution_count": 23,
   "metadata": {},
   "outputs": [
    {
     "name": "stdout",
     "output_type": "stream",
     "text": [
      "明月,你肿么咧\n",
      "sir,你不理呃呃就走咧\n"
     ]
    }
   ],
   "source": [
    "#参数的定义和使用\n",
    "#参数的person只是一个符号，代表的是调用的是某一个数据\n",
    "#调用的时候，会用a的值代替函数中所有的person\n",
    "def hello(person):\n",
    "    print('{0},你肿么咧'.format(person))\n",
    "    print('sir,你不理呃呃就走咧')\n",
    "a = '明月'    \n",
    "hello(a)"
   ]
  },
  {
   "cell_type": "code",
   "execution_count": 25,
   "metadata": {},
   "outputs": [
    {
     "name": "stdout",
     "output_type": "stream",
     "text": [
      "明月,你肿么咧\n",
      "sir,你不理呃呃就走咧\n",
      "我已经跟明月打招呼了，明月不理我\n"
     ]
    }
   ],
   "source": [
    "#return语句的使用\n",
    "#函数打完招呼返回一句话\n",
    "def hello(person):\n",
    "    print('{0},你肿么咧'.format(person))\n",
    "    print('sir,你不理呃呃就走咧')\n",
    "    \n",
    "    return '我已经跟{0}打招呼了，{1}不理我'.format(person,person)\n",
    "    \n",
    "a = '明月'    \n",
    "rst = hello(a)\n",
    "\n",
    "print(rst)"
   ]
  },
  {
   "cell_type": "code",
   "execution_count": 5,
   "metadata": {},
   "outputs": [
    {
     "name": "stdout",
     "output_type": "stream",
     "text": [
      "liming,你肿么咧\n",
      "哈哈，我提前结束了\n"
     ]
    }
   ],
   "source": [
    "#return案例2\n",
    "\n",
    "def hello(person):\n",
    "    print('{0},你肿么咧'.format(person))\n",
    "    return '哈哈，我提前结束了'\n",
    "    print('sir,你不理呃呃就走咧')\n",
    "    return '我已经跟{0}打招呼了，{1}不理我'.format(person,person)\n",
    "\n",
    "p= 'liming'\n",
    "rst=hello(p)\n",
    "print(rst)"
   ]
  },
  {
   "cell_type": "code",
   "execution_count": 6,
   "metadata": {},
   "outputs": [
    {
     "name": "stdout",
     "output_type": "stream",
     "text": [
      "Help on built-in function print in module builtins:\n",
      "\n",
      "print(...)\n",
      "    print(value, ..., sep=' ', end='\\n', file=sys.stdout, flush=False)\n",
      "    \n",
      "    Prints the values to a stream, or to sys.stdout by default.\n",
      "    Optional keyword arguments:\n",
      "    file:  a file-like object (stream); defaults to the current sys.stdout.\n",
      "    sep:   string inserted between values, default a space.\n",
      "    end:   string appended after the last value, default a newline.\n",
      "    flush: whether to forcibly flush the stream.\n",
      "\n"
     ]
    }
   ],
   "source": [
    "#查找函数帮助文档\n",
    "#1. 用help函数\n",
    "help(print)"
   ]
  },
  {
   "cell_type": "code",
   "execution_count": 5,
   "metadata": {},
   "outputs": [
    {
     "name": "stdout",
     "output_type": "stream",
     "text": [
      "1 \n",
      "2 4 \n",
      "3 6 9 \n",
      "4 8 12 16 \n",
      "5 10 15 20 25 \n",
      "6 12 18 24 30 36 \n",
      "7 14 21 28 35 42 49 \n",
      "8 16 24 32 40 48 56 64 \n",
      "9 18 27 36 45 54 63 72 81 \n"
     ]
    }
   ],
   "source": [
    "# 九九乘法表\n",
    "#version 1.0\n",
    "#end 决定的print打印完毕后的动作，将‘/n’改成‘ ’(空格)，可以使print打印完毕后不换行\n",
    "for row in range(1,10):\n",
    "    #打印一行\n",
    "    for col in range(1,row+1):\n",
    "        #print函数默认任务打印完毕后换行\n",
    "        print( row * col,end = ' ')\n",
    "    print('')\n",
    " \n",
    "    \n"
   ]
  },
  {
   "cell_type": "code",
   "execution_count": 18,
   "metadata": {},
   "outputs": [
    {
     "name": "stdout",
     "output_type": "stream",
     "text": [
      "1 \n",
      "2 4 \n",
      "3 6 9 \n",
      "4 8 12 16 \n",
      "5 10 15 20 25 \n",
      "6 12 18 24 30 36 \n",
      "7 14 21 28 35 42 49 \n",
      "8 16 24 32 40 48 56 64 \n",
      "9 18 27 36 45 54 63 72 81 \n"
     ]
    }
   ],
   "source": [
    "#定义一个函数，打印一行九九乘法表\n",
    "\n",
    "def printLine(row):\n",
    "    for col in range(1,row+1):\n",
    "        #print函数默认任务打印完毕后换行\n",
    "        print( row * col,end = ' ')\n",
    "    print('')\n",
    "# 九九乘法表\n",
    "#version 2.0\n",
    "for row in range(1,10):\n",
    "    printLine(row)"
   ]
  },
  {
   "cell_type": "markdown",
   "metadata": {},
   "source": [
    "## 参数详解\n",
    "- [参考资料](https://www.cnblogs.com/bingabcd/p/6671368.html）\n",
    "- python 参考资料: headfirst python -> 零基础入门学习Python（小甲鱼），本讲义参考流畅的Python --> 习题  --> 后期可以考虑腾讯公开免费课\n",
    "- 参数分类\n",
    "    - 普通参数\n",
    "    - 默认参数\n",
    "    - 关键字参数\n",
    "    - 收集参数\n",
    "    \n",
    "- 普通参数\n",
    "    - 参见上例\n",
    "    - 定义的时候直接定义变量名\n",
    "    - 调用的时候直接把参数或者值放入指定位置\n",
    "    \n",
    "    \n",
    "    \n",
    "                def 函数名 （参数1，参数2，...）:\n",
    "                    函数体\n",
    "                #调用\n",
    "                函数名（value1,value2,......）\n",
    "                \n",
    "                #调用的时候，具体值参考的是位置，按位置赋值\n",
    "- 默认参数\n",
    "    - 形参带有默认值\n",
    "    - 调用的时候，如果没有对相应的形参进行赋值，则使用默认值\n",
    "    \n",
    "    \n",
    "                def func_name (p1=v1, p2=v2,......)：\n",
    "                    func_block\n",
    "                    \n",
    "                #调用1\n",
    "                func_name()\n",
    "                \n",
    "                #调用2\n",
    "                value1=100\n",
    "                value=200\n",
    "                 func_name(value1,value2)\n",
    "- 关键字参数\n",
    "   - 语法\n",
    "           def func (p1=v1, p2=v2,......)：\n",
    "               func_body\n",
    "               \n",
    "           调用函数：\n",
    "           func(p1=value1,p2=value2,......)\n",
    "   - 比较麻烦，但也有好处\n",
    "       - 不容易混淆，一般形参和实参只是按照位置一一对应即可，容易出错\n",
    "       - 使用关键字参数，可以不考虑参数位置\n",
    " - 收集参数\n",
    "     - 把没有位置，不能和定义时的参数位置相对应的参数，放入一个特定的数据结构中\n",
    "     - 语法\n",
    "     \n",
    "                  def func (*args)：\n",
    "                      func_body\n",
    "                      \n",
    "                  调用：\n",
    "                  func(p1,p2,p3,.....)\n",
    "    - 参数名args不是必须这么写，但是，推荐使用，约定俗成  \n",
    "    - 参数名args前需要有星号\n",
    "    - 收集参数可以和其他参数共存\n",
    "- 收集参数之关键字收集参数\n",
    "  - 把关键字参数按照字典的格式存入收集参数\n",
    "  - 语法：\n",
    "             \n",
    "             def func ( **kwargs)：\n",
    "                      func_body\n",
    "                      \n",
    "             # 调用：\n",
    "             func(p1=v1,p2=v2,p3=v3,.....)\n",
    "    - kwargs一般约定俗成\n",
    "    - 调用的时候，把多余的关键字参数放入kwargs\n",
    "    - 访问kwargs需要按照字典格式访问"
   ]
  },
  {
   "cell_type": "code",
   "execution_count": 29,
   "metadata": {},
   "outputs": [],
   "source": [
    "#默认参数实例\n",
    "#报名函数，需要知道学生性别\n",
    "#性别默认为男（没特殊指定的情况下）\n",
    "def reg(name, age, gender=\"male\"):\n",
    "    if gender=='male':\n",
    "        print('{0} is {1}, and he is a good student'.format (name,age))\n",
    "    else:\n",
    "        print('{0} is {1}, and she is a good student'.format (name,age)) \n",
    "        "
   ]
  },
  {
   "cell_type": "code",
   "execution_count": 31,
   "metadata": {},
   "outputs": [
    {
     "name": "stdout",
     "output_type": "stream",
     "text": [
      "mingyue is 21, and he is a good student\n",
      "xiaojing is 23, and she is a good student\n"
     ]
    }
   ],
   "source": [
    "#调用默认参数1\n",
    "\n",
    "reg ('mingyue',21)\n",
    "reg('xiaojing',23,\"femal\")"
   ]
  },
  {
   "cell_type": "markdown",
   "metadata": {},
   "source": []
  },
  {
   "cell_type": "code",
   "execution_count": 36,
   "metadata": {},
   "outputs": [
    {
     "name": "stdout",
     "output_type": "stream",
     "text": [
      "I am a student\n",
      "My name is 18,I am jingjing years old, and I live in my home\n",
      "I am a student\n",
      "My name is jingjing,I am 18 years old, and I live in my home\n"
     ]
    }
   ],
   "source": [
    "#关键字参数案例\n",
    "def stu(name,age,addr):\n",
    "    print(\"I am a student\")\n",
    "    print(\"My name is {0},I am {1} years old, and I live in {2}\".format(name,age,addr))\n",
    "    \n",
    "n = \"jingjing\"\n",
    "a = 18\n",
    "add = \"my home\"\n",
    "\n",
    "#普通参数，只按照位置传递，容易出错\n",
    "stu(a,n,add)\n",
    "\n",
    "\n",
    "def stu_key(name=\"No name\",age=0,addr=\"No addr\"):\n",
    "    print(\"I am a student\")\n",
    "    print(\"My name is {0},I am {1} years old, and I live in {2}\".format(name,age,addr))\n",
    "    \n",
    "n = \"jingjing\"\n",
    "a = 18\n",
    "add = \"my home\"\n",
    "\n",
    "#普通参数，只按照位置传递，容易出错\n",
    "stu_key(age=a,name=n,addr=add)"
   ]
  },
  {
   "cell_type": "markdown",
   "metadata": {},
   "source": []
  },
  {
   "cell_type": "code",
   "execution_count": 3,
   "metadata": {},
   "outputs": [
    {
     "name": "stdout",
     "output_type": "stream",
     "text": [
      "Hello 大家好， 自我介绍一下， 简单说两句：\n",
      "<class 'tuple'>\n",
      "liuying\n",
      "18\n",
      "hunanchangsha\n",
      "xingyu\n",
      "bu single\n",
      "Hello 大家好， 自我介绍一下， 简单说两句：\n",
      "<class 'tuple'>\n",
      "周大神\n"
     ]
    }
   ],
   "source": [
    "#收集参数代码\n",
    "#函数模拟一个学生自我介绍，但具体内容不清楚\n",
    "#args把它看成一个列表（list）\n",
    "def stu(*args):\n",
    "    print('Hello 大家好， 自我介绍一下， 简单说两句：')\n",
    "   #type函数用来检测变量的类型 \n",
    "    print(type(args))\n",
    "    for item in args:\n",
    "        print(item)\n",
    "\n",
    "\n",
    "stu('liuying', 18, \"hunanchangsha\", \"xingyu\", \"bu single\")\n",
    "\n",
    "stu('周大神')\n",
    "\n"
   ]
  },
  {
   "cell_type": "code",
   "execution_count": 4,
   "metadata": {},
   "outputs": [
    {
     "name": "stdout",
     "output_type": "stream",
     "text": [
      "Hello 大家好， 自我介绍一下， 简单说两句：\n",
      "<class 'tuple'>\n"
     ]
    }
   ],
   "source": [
    "#收集参数案例\n",
    "#说明收集参数可以不带任何实参调用，此时收集参数为空tuple\n",
    "stu()\n"
   ]
  },
  {
   "cell_type": "code",
   "execution_count": 5,
   "metadata": {},
   "outputs": [
    {
     "ename": "TypeError",
     "evalue": "stu() got an unexpected keyword argument 'name'",
     "output_type": "error",
     "traceback": [
      "\u001b[1;31m---------------------------------------------------------------------------\u001b[0m",
      "\u001b[1;31mTypeError\u001b[0m                                 Traceback (most recent call last)",
      "\u001b[1;32m<ipython-input-5-2d601e0c251a>\u001b[0m in \u001b[0;36m<module>\u001b[1;34m()\u001b[0m\n\u001b[0;32m      1\u001b[0m \u001b[1;31m#如果使用关键字参数格式调用，会出现问题\u001b[0m\u001b[1;33m\u001b[0m\u001b[1;33m\u001b[0m\u001b[0m\n\u001b[1;32m----> 2\u001b[1;33m \u001b[0mstu\u001b[0m\u001b[1;33m(\u001b[0m\u001b[0mname\u001b[0m\u001b[1;33m=\u001b[0m\u001b[1;34m'liuying'\u001b[0m\u001b[1;33m)\u001b[0m\u001b[1;33m\u001b[0m\u001b[0m\n\u001b[0m",
      "\u001b[1;31mTypeError\u001b[0m: stu() got an unexpected keyword argument 'name'"
     ]
    }
   ],
   "source": [
    "#如果使用关键字参数格式调用，会出现问题\n",
    "stu(name='liuying')"
   ]
  },
  {
   "cell_type": "code",
   "execution_count": 14,
   "metadata": {},
   "outputs": [
    {
     "name": "stdout",
     "output_type": "stream",
     "text": [
      "Hello 大家好， 自我介绍一下， 简单说两句：\n",
      "<class 'dict'>\n",
      "name --- liuying\n",
      "age --- 18\n",
      "addr --- hunanchangsha\n",
      "lover --- xingyu\n",
      "work --- bu single\n",
      "**************************************************\n",
      "Hello 大家好， 自我介绍一下， 简单说两句：\n",
      "<class 'dict'>\n",
      "name --- 周大神\n"
     ]
    }
   ],
   "source": [
    "# 收集参数案例\n",
    "#自我介绍\n",
    "#调用的时候需要使用关键字参数调用\n",
    "def stu( **kwargs):\n",
    "    #在函数体内对于kwargs的使用不用带星号\n",
    "    print('Hello 大家好， 自我介绍一下， 简单说两句：')\n",
    "    print(type(kwargs))\n",
    "    #对于字典的访问，Python2与Python3不同\n",
    "    for k, v in kwargs.items():\n",
    "        print(k,\"---\",v)\n",
    "    \n",
    "stu(name='liuying', age=18, addr=\"hunanchangsha\", lover=\"xingyu\", work=\"bu single\")\n",
    "\n",
    "print ('*' * 50)#把字符串乘以20遍\n",
    "\n",
    "stu (name=\"周大神\")"
   ]
  },
  {
   "cell_type": "code",
   "execution_count": 15,
   "metadata": {},
   "outputs": [
    {
     "name": "stdout",
     "output_type": "stream",
     "text": [
      "Hello 大家好， 自我介绍一下， 简单说两句：\n",
      "<class 'dict'>\n"
     ]
    }
   ],
   "source": [
    "#收集参数可以为空案例\n",
    "stu()"
   ]
  }
 ],
 "metadata": {
  "kernelspec": {
   "display_name": "Python 3",
   "language": "python",
   "name": "python3"
  },
  "language_info": {
   "codemirror_mode": {
    "name": "ipython",
    "version": 3
   },
   "file_extension": ".py",
   "mimetype": "text/x-python",
   "name": "python",
   "nbconvert_exporter": "python",
   "pygments_lexer": "ipython3",
   "version": "3.6.5"
  }
 },
 "nbformat": 4,
 "nbformat_minor": 2
}
