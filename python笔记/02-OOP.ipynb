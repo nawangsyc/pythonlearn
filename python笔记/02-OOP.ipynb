{
 "cells": [
  {
   "cell_type": "code",
   "execution_count": 2,
   "metadata": {},
   "outputs": [
    {
     "name": "stdout",
     "output_type": "stream",
     "text": [
      "nana\n"
     ]
    }
   ],
   "source": [
    "class Student():\n",
    "    name = \"nana\"\n",
    "    age = 18\n",
    "\n",
    "Student.__dict__\n",
    "\n",
    "# 实例化\n",
    "yueyue = Student()\n",
    "yueyue.__dict__\n",
    "print(yueyue.name)"
   ]
  },
  {
   "cell_type": "code",
   "execution_count": 17,
   "metadata": {},
   "outputs": [
    {
     "name": "stdout",
     "output_type": "stream",
     "text": [
      "nana\n",
      "18\n",
      "********************\n",
      "89048936\n",
      "499936864\n",
      "********************\n",
      "nana\n",
      "18\n",
      "89048936\n",
      "499936864\n"
     ]
    }
   ],
   "source": [
    "class A():\n",
    "    name = 'nana'\n",
    "    age = 18\n",
    "    \n",
    "    # 注意say的写法，参数有一个self\n",
    "    def say(self):\n",
    "        self.name = 'aaaa'\n",
    "        self.age = 19\n",
    "\n",
    "# 此案例说明\n",
    "# 类实例的属性和其对象的实例的属性在不对对象的实例属性赋值的前提下，指向同一变量\n",
    "        \n",
    "# 此时，A成为类实例    \n",
    "print(A.name)\n",
    "print(A.age)\n",
    "\n",
    "print('*' * 20)\n",
    "\n",
    "# ID可以鉴别一个变量跟另一个变量是否为同一变量\n",
    "print(id(A.name))\n",
    "print(id(A.age))\n",
    "\n",
    "print('*' * 20)\n",
    "a = A()\n",
    "\n",
    "print(a.name)\n",
    "print(a.age)\n",
    "print(id(a.name))\n",
    "print(id(a.age))"
   ]
  },
  {
   "cell_type": "code",
   "execution_count": 18,
   "metadata": {},
   "outputs": [
    {
     "name": "stdout",
     "output_type": "stream",
     "text": [
      "nana\n",
      "18\n",
      "********************\n",
      "89048936\n",
      "499936864\n",
      "********************\n",
      "{'__module__': '__main__', 'name': 'nana', 'age': 18, 'say': <function A.say at 0x0000000005589D08>, '__dict__': <attribute '__dict__' of 'A' objects>, '__weakref__': <attribute '__weakref__' of 'A' objects>, '__doc__': None}\n",
      "{}\n",
      "{'name': 'haha', 'age': 16}\n",
      "haha\n",
      "16\n",
      "89764112\n",
      "499936800\n"
     ]
    }
   ],
   "source": [
    "# 此时，A成为类实例    \n",
    "print(A.name)\n",
    "print(A.age)\n",
    "\n",
    "print('*' * 20)\n",
    "\n",
    "# ID可以鉴别一个变量跟另一个变量是否为同一变量\n",
    "print(id(A.name))\n",
    "print(id(A.age))\n",
    "\n",
    "print('*' * 20)\n",
    "a = A()\n",
    "# 查看A内所有的属性\n",
    "print(A.__dict__)\n",
    "print(a.__dict__)\n",
    "\n",
    "a.name = 'haha'\n",
    "a.age = 16\n",
    "print(a.__dict__)\n",
    "\n",
    "print(a.name)\n",
    "print(a.age)\n",
    "print(id(a.name))\n",
    "print(id(a.age))"
   ]
  },
  {
   "cell_type": "code",
   "execution_count": 3,
   "metadata": {},
   "outputs": [
    {
     "name": "stdout",
     "output_type": "stream",
     "text": [
      "my name is aaaa\n",
      "I am 19 years old\n",
      "my name is aaaa\n",
      "I am 19 years old\n"
     ]
    }
   ],
   "source": [
    "class Student():\n",
    "    name = \"nana\"\n",
    "    age = 18\n",
    "    \n",
    "    # 注意say的写法，参数有一个self\n",
    "    def say(self):\n",
    "        self.name = 'aaaa'\n",
    "        self.age = 19\n",
    "        print('my name is {0}'.format(self.name))\n",
    "        print('I am {0} years old'.format(self.age))\n",
    "        \n",
    "    def sayAgain(s):\n",
    "        \n",
    "        print('my name is {0}'.format(s.name))\n",
    "        print('I am {0} years old'.format(s.age))\n",
    "        \n",
    "yueyue = Student()\n",
    "yueyue.say()\n",
    "yueyue.sayAgain()"
   ]
  },
  {
   "cell_type": "code",
   "execution_count": 34,
   "metadata": {},
   "outputs": [
    {
     "name": "stdout",
     "output_type": "stream",
     "text": [
      "my name is aaaa\n",
      "I am 20 years old\n",
      "dana\n",
      "20\n",
      "Hello, nice to meet you\n",
      "my name is dana\n",
      "I am 20 years old\n"
     ]
    }
   ],
   "source": [
    "class Teacher():\n",
    "    name=\"dana\"\n",
    "    age = 20\n",
    "    \n",
    "    def say(self):\n",
    "        self.name = 'aaaa'\n",
    "        self.age = 19\n",
    "        print('my name is {0}'.format(self.name))\n",
    "        # 调用类的成员变量需要用__class__\n",
    "        print('I am {0} years old'.format(__class__.age))\n",
    "        \n",
    "    def sayAgain():\n",
    "        print(__class__.name)\n",
    "        print(__class__.age)\n",
    "        print('Hello, nice to meet you')\n",
    "        print('my name is {0}'.format(__class__.name))\n",
    "        print('I am {0} years old'.format(Teacher.age))\n",
    "        \n",
    "t = Teacher()\n",
    "t.say()\n",
    "# 调用绑定类的函数使用类名\n",
    "Teacher.sayAgain()"
   ]
  },
  {
   "cell_type": "code",
   "execution_count": 4,
   "metadata": {},
   "outputs": [
    {
     "name": "stdout",
     "output_type": "stream",
     "text": [
      "rrg\n",
      "198\n",
      "rrg\n",
      "198\n",
      "wangna\n",
      "18\n",
      "bbbb\n",
      "52\n"
     ]
    }
   ],
   "source": [
    "# 关于self的案例\n",
    "\n",
    "class A():\n",
    "    name = \"wangna\"\n",
    "    age = 18\n",
    "    \n",
    "    def __init__(self):\n",
    "        self.name = 'rrg'\n",
    "        self.age = 198\n",
    "        \n",
    "    def say(self):\n",
    "        print(self.name)\n",
    "        print(self.age)\n",
    "        \n",
    "class B():\n",
    "    name = 'bbbb'\n",
    "    age = 52\n",
    "    \n",
    "a = A()\n",
    "# 此时，系统会默认把a作为第一个参数传入函数\n",
    "a.say()\n",
    "\n",
    "# 此时，self被a替换\n",
    "A.say(a)\n",
    "# 同样可以把A作为参数传入\n",
    "A.say(A)\n",
    "\n",
    "# 此时，传入的是类实例B，因为B具有name和age属性，所以不会报错\n",
    "A.say(B)\n",
    "\n",
    "# 以上代码，利用了鸭子模型"
   ]
  },
  {
   "cell_type": "code",
   "execution_count": 45,
   "metadata": {},
   "outputs": [
    {
     "name": "stdout",
     "output_type": "stream",
     "text": [
      "王娜\n"
     ]
    },
    {
     "ename": "AttributeError",
     "evalue": "'Person' object has no attribute '__age'",
     "output_type": "error",
     "traceback": [
      "\u001b[1;31m---------------------------------------------------------------------------\u001b[0m",
      "\u001b[1;31mAttributeError\u001b[0m                            Traceback (most recent call last)",
      "\u001b[1;32m<ipython-input-45-984776c28d55>\u001b[0m in \u001b[0;36m<module>\u001b[1;34m()\u001b[0m\n\u001b[0;32m     11\u001b[0m \u001b[0mprint\u001b[0m\u001b[1;33m(\u001b[0m\u001b[0mp\u001b[0m\u001b[1;33m.\u001b[0m\u001b[0mname\u001b[0m\u001b[1;33m)\u001b[0m\u001b[1;33m\u001b[0m\u001b[0m\n\u001b[0;32m     12\u001b[0m \u001b[1;31m# age是私有变量\u001b[0m\u001b[1;33m\u001b[0m\u001b[1;33m\u001b[0m\u001b[0m\n\u001b[1;32m---> 13\u001b[1;33m \u001b[0mprint\u001b[0m\u001b[1;33m(\u001b[0m\u001b[0mp\u001b[0m\u001b[1;33m.\u001b[0m\u001b[0m__age\u001b[0m\u001b[1;33m)\u001b[0m\u001b[1;33m\u001b[0m\u001b[0m\n\u001b[0m",
      "\u001b[1;31mAttributeError\u001b[0m: 'Person' object has no attribute '__age'"
     ]
    }
   ],
   "source": [
    "# 私有变量案例\n",
    "\n",
    "class Person():\n",
    "                # name是共有的成员\n",
    "                name = '王娜'\n",
    "                # __age就是私有成员\n",
    "                __age = 18\n",
    "                \n",
    "p = Person()\n",
    "# name是公有变量\n",
    "print(p.name)\n",
    "# age是私有变量\n",
    "print(p.__age)"
   ]
  },
  {
   "cell_type": "code",
   "execution_count": 49,
   "metadata": {},
   "outputs": [
    {
     "name": "stdout",
     "output_type": "stream",
     "text": [
      "{'__module__': '__main__', 'name': '王娜', '_Person__age': 18, '__dict__': <attribute '__dict__' of 'Person' objects>, '__weakref__': <attribute '__weakref__' of 'Person' objects>, '__doc__': None}\n",
      "18\n"
     ]
    }
   ],
   "source": [
    "# name mangling技术\n",
    "print(Person.__dict__)\n",
    "\n",
    "p._Person_age = 18\n",
    "print(p._Person_age)"
   ]
  }
 ],
 "metadata": {
  "kernelspec": {
   "display_name": "Python 3",
   "language": "python",
   "name": "python3"
  },
  "language_info": {
   "codemirror_mode": {
    "name": "ipython",
    "version": 3
   },
   "file_extension": ".py",
   "mimetype": "text/x-python",
   "name": "python",
   "nbconvert_exporter": "python",
   "pygments_lexer": "ipython3",
   "version": "3.6.5"
  }
 },
 "nbformat": 4,
 "nbformat_minor": 2
}
